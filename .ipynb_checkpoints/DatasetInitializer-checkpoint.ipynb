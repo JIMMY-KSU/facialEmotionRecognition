{
 "cells": [
  {
   "cell_type": "code",
   "execution_count": null,
   "metadata": {
    "collapsed": false
   },
   "outputs": [],
   "source": [
    "import glob\n",
    "from shutil import copyfile\n",
    "\n",
    "emotions = [\"neutral\", \"anger\", \"contempt\", \"disgust\", \"fear\", \"happy\", \"sadness\", \"surprise\"] #Define emotion order\n",
    "participants = glob.glob(\"source_emotion\\\\*\") #Returns a list of all folders with participant numbers\n",
    "\n",
    "for x in participants:\n",
    "    part = \"%s\" %x[-4:] #store current participant number\n",
    "    for sessions in glob.glob(\"%s\\\\*\" %x): #Store list of sessions for current participant\n",
    "        for files in glob.glob(\"%s\\\\*\" %sessions):\n",
    "            current_session = files[20:-30]\n",
    "            file = open(files, 'r')\n",
    "            \n",
    "            emotion = int(float(file.readline())) #emotions are encoded as a float, readline as float, then convert to integer.\n",
    "            print(emotion,\"    \",part,\"   \", current_session)\n",
    "            sourcefile_emotion = glob.glob(\"source_images\\\\%s\\\\%s\\\\*\" %(part, current_session))[-1] #get path for last image in sequence, which contains the emotion\n",
    "            sourcefile_neutral = glob.glob(\"source_images\\\\%s\\\\%s\\\\*\" %(part, current_session))[0] #do same for neutral image\n",
    "            \n",
    "            dest_neut = \"sorted_set\\\\neutral\\\\%s\" %sourcefile_neutral[25:] #Generate path to put neutral image\n",
    "            dest_emot = \"sorted_set\\\\%s\\\\%s\" %(emotions[emotion], sourcefile_emotion[25:]) #Do same for emotion containing image\n",
    "            \n",
    "            copyfile(sourcefile_neutral, dest_neut) #Copy file\n",
    "            copyfile(sourcefile_emotion, dest_emot) #Copy file"
   ]
  },
  {
   "cell_type": "code",
   "execution_count": null,
   "metadata": {
    "collapsed": false
   },
   "outputs": [],
   "source": [
    "import cv2\n",
    "import glob\n",
    "\n",
    "faceDet = cv2.CascadeClassifier(\"haarcascade_frontalface_default.xml\")\n",
    "faceDet2 = cv2.CascadeClassifier(\"haarcascade_frontalface_alt2.xml\")\n",
    "faceDet3 = cv2.CascadeClassifier(\"haarcascade_frontalface_alt.xml\")\n",
    "faceDet4 = cv2.CascadeClassifier(\"haarcascade_frontalface_alt_tree.xml\")\n",
    "\n",
    "emotions = [\"neutral\", \"anger\", \"contempt\", \"disgust\", \"fear\", \"happy\", \"sadness\", \"surprise\"] #Define emotions\n",
    "\n",
    "def detect_faces(emotion):\n",
    "    files = glob.glob(\"sorted_set\\\\%s\\\\*\" %emotion) #Get list of all images with emotion\n",
    "\n",
    "    filenumber = 0\n",
    "    for f in files:\n",
    "        frame = cv2.imread(f) #Open image\n",
    "        gray = cv2.cvtColor(frame, cv2.COLOR_BGR2GRAY) #Convert image to grayscale\n",
    "        \n",
    "        #Detect face using 4 different classifiers\n",
    "        face = faceDet.detectMultiScale(gray, scaleFactor=1.1, minNeighbors=10, minSize=(5, 5), flags=cv2.CASCADE_SCALE_IMAGE)\n",
    "        face2 = faceDet2.detectMultiScale(gray, scaleFactor=1.1, minNeighbors=10, minSize=(5, 5), flags=cv2.CASCADE_SCALE_IMAGE)\n",
    "        face3 = faceDet3.detectMultiScale(gray, scaleFactor=1.1, minNeighbors=10, minSize=(5, 5), flags=cv2.CASCADE_SCALE_IMAGE)\n",
    "        face4 = faceDet4.detectMultiScale(gray, scaleFactor=1.1, minNeighbors=10, minSize=(5, 5), flags=cv2.CASCADE_SCALE_IMAGE)\n",
    "\n",
    "        #Go over detected faces, stop at first detected face, return empty if no face.\n",
    "        if len(face) == 1:\n",
    "            facefeatures = face\n",
    "        elif len(face2) == 1:\n",
    "            facefeatures == face2\n",
    "        elif len(face3) == 1:\n",
    "            facefeatures = face3\n",
    "        elif len(face4) == 1:\n",
    "            facefeatures = face4\n",
    "        else:\n",
    "            facefeatures = \"\"\n",
    "        \n",
    "        #Cut and save face\n",
    "        for (x, y, w, h) in facefeatures: #get coordinates and size of rectangle containing face\n",
    "            print (\"face found in file: %s\" ,f)\n",
    "            gray = gray[y:y+h, x:x+w] #Cut the frame to size\n",
    "            \n",
    "            try:\n",
    "                out = cv2.resize(gray, (100, 100)) #Resize face so all images have same size\n",
    "                cv2.imwrite(\"dataset\\\\%s\\\\%s.jpg\" %(emotion, filenumber), out) #Write image\n",
    "            except:\n",
    "               pass #If error, pass file\n",
    "        filenumber += 1 #Increment image number\n",
    "\n",
    "for emotion in emotions: \n",
    "    detect_faces(emotion) #Call functional"
   ]
  },
  {
   "cell_type": "code",
   "execution_count": null,
   "metadata": {
    "collapsed": true
   },
   "outputs": [],
   "source": []
  }
 ],
 "metadata": {
  "anaconda-cloud": {},
  "kernelspec": {
   "display_name": "Python [Root]",
   "language": "python",
   "name": "Python [Root]"
  },
  "language_info": {
   "codemirror_mode": {
    "name": "ipython",
    "version": 3
   },
   "file_extension": ".py",
   "mimetype": "text/x-python",
   "name": "python",
   "nbconvert_exporter": "python",
   "pygments_lexer": "ipython3",
   "version": "3.5.2"
  }
 },
 "nbformat": 4,
 "nbformat_minor": 0
}
