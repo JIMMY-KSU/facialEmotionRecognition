{
 "cells": [
  {
   "cell_type": "code",
   "execution_count": null,
   "metadata": {
    "collapsed": false
   },
   "outputs": [],
   "source": [
    "import cv2\n",
    "import numpy as np\n",
    "import matplotlib.pyplot as plt\n",
    "import json\n",
    "\n",
    "gaussian_noises = [0.0,0.05, 0.1, 0.15]\n",
    "\n",
    "\n",
    "#plot graph of epoch wise for each gaussian noise variance\n",
    "for i in gaussian_noises:\n",
    "    data = []\n",
    "    with open(\"metaScore_\"+str(i)+\".json\", 'r') as fp:\n",
    "        data = json.load(fp)\n",
    "    plt.plot(data, 'r--')\n",
    "    plt.show()"
   ]
  },
  {
   "cell_type": "code",
   "execution_count": 54,
   "metadata": {
    "collapsed": true
   },
   "outputs": [],
   "source": [
    "#plot graph for each variance\n",
    "meanData = []\n",
    "for i in gaussian_noises:\n",
    "    data = []\n",
    "    with open(\"metaScore_\"+str(i)+\".json\", 'r') as fp:\n",
    "        data = json.load(fp)\n",
    "    meanData.append(np.mean(data))\n",
    "plt.plot(gaussian_noises, meanData,'r-o')\n",
    "plt.show()"
   ]
  },
  {
   "cell_type": "code",
   "execution_count": null,
   "metadata": {
    "collapsed": true
   },
   "outputs": [],
   "source": []
  }
 ],
 "metadata": {
  "kernelspec": {
   "display_name": "Python [Root]",
   "language": "python",
   "name": "Python [Root]"
  },
  "language_info": {
   "codemirror_mode": {
    "name": "ipython",
    "version": 3
   },
   "file_extension": ".py",
   "mimetype": "text/x-python",
   "name": "python",
   "nbconvert_exporter": "python",
   "pygments_lexer": "ipython3",
   "version": "3.5.2"
  }
 },
 "nbformat": 4,
 "nbformat_minor": 0
}
